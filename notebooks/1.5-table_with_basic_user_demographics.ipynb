{
 "cells": [
  {
   "cell_type": "code",
   "execution_count": null,
   "id": "0d870db8",
   "metadata": {},
   "outputs": [],
   "source": [
    "import pandas as pd"
   ]
  },
  {
   "cell_type": "code",
   "execution_count": null,
   "id": "31cca166",
   "metadata": {},
   "outputs": [],
   "source": [
    "def user_table(valid_user, user_info, cohorts):\n",
    "    \n",
    "    table = \"\"\"\\\\begin{tabular}{l | r r r | r}\\n\"\"\"\n",
    "    table += \"\"\"& Vaccinated & Unvaccinated & Negative & Total\\\\\\\\\\n\\midrule\\n\"\"\"\n",
    "    \n",
    "    vacc = cohorts[cohorts['vaccinated']].user_id.values\n",
    "    unvacc = cohorts[cohorts['unvaccinated']].user_id.values\n",
    "    negative = cohorts[cohorts['negative']].user_id.values\n",
    "    total = cohorts[cohorts['total']].user_id.values\n",
    "    \n",
    "    users = user_info[user_info.user_id.isin(valid_user)]\n",
    "    \n",
    "    for row in ('Female', 'Male', 'Other', 'Age (mean)', 'Age (std)'):\n",
    "\n",
    "        row_str = row\n",
    "\n",
    "        for group in (vacc, unvacc, negative, total):\n",
    "\n",
    "            if row == 'Female':\n",
    "                n = len(users[users.user_id.isin(group) & (users.salutation == 10)])\n",
    "            elif row == 'Male':\n",
    "                n = len(users[users.user_id.isin(group) & (users.salutation == 20)])\n",
    "            elif row == 'Other':\n",
    "                n = len(users[users.user_id.isin(group) & (users.salutation == 30)])\n",
    "            elif row == 'Age (mean)':\n",
    "                n = users[users.user_id.isin(group)].age.mean()\n",
    "            elif row == 'Age (std)':\n",
    "                n = users[users.user_id.isin(group)].age.std()\n",
    "\n",
    "            if row in ('Female', 'Male', 'Other'):\n",
    "                p = n / len(users[users.user_id.isin(group)])\n",
    "                row_str += ' & ' + str(n) + ' ({:.2f}\\%)'.format(p * 100) \n",
    "            else:\n",
    "                row_str += ' & {:.2f}yr '.format(n)\n",
    "\n",
    "        row_str += ' \\\\\\\\ \\n'\n",
    "        table += row_str\n",
    "\n",
    "    table += \"\"\"\\\\bottomrule\\n\\end{tabular}\"\"\"\n",
    "    print(table)\n",
    "\n",
    "    with open('../output/table1_user_data_vaccinations.txt', 'w') as outfile:\n",
    "        outfile.write(table)"
   ]
  },
  {
   "cell_type": "code",
   "execution_count": null,
   "id": "d82e2fe6",
   "metadata": {},
   "outputs": [],
   "source": [
    "WEEKLY_DEVIATIONS = pd.read_feather('../data/03_derived/weekly_vital_deviations_per_user.feather')\n",
    "USERS = pd.read_feather('../data/02_processed/users_processed.feather')\n",
    "COHORTS = pd.read_feather('../data/03_derived/user_cohorts.feather')\n",
    "\n",
    "user_table(WEEKLY_DEVIATIONS.userid.unique(), USERS, COHORTS)"
   ]
  }
 ],
 "metadata": {
  "kernelspec": {
   "display_name": "Python 3 (ipykernel)",
   "language": "python",
   "name": "python3"
  },
  "language_info": {
   "codemirror_mode": {
    "name": "ipython",
    "version": 3
   },
   "file_extension": ".py",
   "mimetype": "text/x-python",
   "name": "python",
   "nbconvert_exporter": "python",
   "pygments_lexer": "ipython3",
   "version": "3.10.9"
  }
 },
 "nbformat": 4,
 "nbformat_minor": 5
}
