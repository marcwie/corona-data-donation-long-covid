{
 "cells": [
  {
   "cell_type": "code",
   "execution_count": null,
   "id": "e86817f8",
   "metadata": {},
   "outputs": [],
   "source": [
    "import pandas as pd\n",
    "import numpy as np\n",
    "from matplotlib import pyplot as plt\n",
    "from long_covid.styling import hide_and_move_axis"
   ]
  },
  {
   "cell_type": "code",
   "execution_count": null,
   "id": "d2bc2e01",
   "metadata": {},
   "outputs": [],
   "source": [
    "vitals = pd.read_feather('../data/02_processed/vitals_processed.feather')\n",
    "rhr = vitals[vitals.vitalid == 65]"
   ]
  },
  {
   "cell_type": "code",
   "execution_count": null,
   "id": "42671b2e",
   "metadata": {},
   "outputs": [],
   "source": [
    "vacc_data = pd.read_feather('../data/01_raw/vaccinations.feather')\n",
    "test_data = pd.read_feather('../data/01_raw/tests.feather')\n",
    "metadata = pd.merge(vacc_data, test_data, on='user_id')"
   ]
  },
  {
   "cell_type": "code",
   "execution_count": null,
   "id": "b58e1252",
   "metadata": {},
   "outputs": [],
   "source": [
    "data = pd.merge(metadata, rhr, left_on='user_id', right_on='userid')\n",
    "data['dt'] = (data.date - data.first_dose).dt.days\n",
    "\n",
    "random_dates = pd.date_range(start=df.first_dose.min(),end=df.first_dose.max())\n",
    "random_dates = np.random.choice(random_dates, len(df.user_id.unique()))\n",
    "random_dates = pd.DataFrame(data={'user_id': df.user_id.unique(), 'random_first_dose': random_dates})\n",
    "\n",
    "data = pd.merge(data, random_dates, on='user_id')\n",
    "data['dt_random'] = (data.date - data.random_first_dose).dt.days\n",
    "\n",
    "df = data[data.test_result == 'negative']"
   ]
  },
  {
   "cell_type": "code",
   "execution_count": null,
   "id": "b7d2eb44",
   "metadata": {},
   "outputs": [],
   "source": [
    "f, (ax1, ax2) = plt.subplots(1, 2, figsize=(8, 3), sharex=True, sharey=True)\n",
    "\n",
    "before = df[(df.dt < 0) & (df.dt > -60)]\n",
    "before = pd.DataFrame(before.groupby('user_id').value.mean())\n",
    "\n",
    "after = df[(df.dt < 90) & (df.dt > 30)]\n",
    "after = pd.DataFrame(after.groupby('user_id').value.mean())\n",
    "\n",
    "diff = pd.merge(before, after, on='user_id')\n",
    "diff['diff'] = diff.value_y - diff.value_x\n",
    "\n",
    "bar, x = np.histogram(diff['diff'], bins=np.arange(-10.5, 10.5, 1), density=True)\n",
    "\n",
    "ax1.bar((x[1:] + x[:-1]) / 2, bar)\n",
    "ax1.axvline(diff['diff'].mean(), c='k', lw=1.5, ls='--')\n",
    "print(diff['diff'].mean())\n",
    "\n",
    "x1 = diff['diff']\n",
    "\n",
    "before = df[(df.dt_random < 0) & (df.dt_random > -60)]\n",
    "before = pd.DataFrame(before.groupby('user_id').value.mean())\n",
    "after = df[(df.dt_random < 90) & (df.dt_random > 30)]\n",
    "after = pd.DataFrame(after.groupby('user_id').value.mean())\n",
    "\n",
    "diff = pd.merge(before, after, on='user_id')\n",
    "diff['diff'] = diff.value_y - diff.value_x\n",
    "\n",
    "bar, x = np.histogram(diff['diff'], bins=np.arange(-10.5, 10.5, 1), density=True)\n",
    "\n",
    "ax2.bar((x[1:] + x[:-1]) / 2, bar)\n",
    "ax2.axvline(diff['diff'].mean(), c='k', lw=1.5, ls='--')\n",
    "print(diff['diff'].mean())\n",
    "\n",
    "x2 = diff['diff']\n",
    "\n",
    "x1 = np.sort(x1)\n",
    "x2 = np.sort(x2)\n",
    "hide_and_move_axis(ax1)\n",
    "hide_and_move_axis(ax2)\n",
    "\n",
    "ax1.set_ylabel('Relative frequency of observation')\n",
    "ax1.set_xlabel('Difference in average resting heart rate [bpm]\\nbetween the two months before and after\\nreceiving first vaccination dose')\n",
    "ax2.set_xlabel('Difference in average resting heart rate [bpm]\\nbetween any two subsequent months')"
   ]
  },
  {
   "cell_type": "code",
   "execution_count": null,
   "id": "a7e33d10",
   "metadata": {},
   "outputs": [],
   "source": [
    "q1 = []\n",
    "q2 = []\n",
    "\n",
    "for i in np.linspace(1, 99):\n",
    "    q1.append(np.percentile(x1, i))\n",
    "    q2.append(np.percentile(x2, i))\n",
    "    \n",
    "np.corrcoef(q1, q2)"
   ]
  }
 ],
 "metadata": {
  "kernelspec": {
   "display_name": "Python 3 (ipykernel)",
   "language": "python",
   "name": "python3"
  },
  "language_info": {
   "codemirror_mode": {
    "name": "ipython",
    "version": 3
   },
   "file_extension": ".py",
   "mimetype": "text/x-python",
   "name": "python",
   "nbconvert_exporter": "python",
   "pygments_lexer": "ipython3",
   "version": "3.10.9"
  }
 },
 "nbformat": 4,
 "nbformat_minor": 5
}
