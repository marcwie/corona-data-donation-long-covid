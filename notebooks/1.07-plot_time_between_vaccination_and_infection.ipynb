{
 "cells": [
  {
   "cell_type": "code",
   "execution_count": null,
   "id": "3bd91fa7",
   "metadata": {},
   "outputs": [],
   "source": [
    "import pandas as pd\n",
    "import datetime\n",
    "from matplotlib import pyplot as plt\n",
    "import numpy as np\n",
    "from long_covid.colors import flatuicolors\n",
    "from long_covid import styling"
   ]
  },
  {
   "cell_type": "code",
   "execution_count": null,
   "id": "e679eaf1",
   "metadata": {},
   "outputs": [],
   "source": [
    "TESTS = pd.read_feather('../data/01_raw/tests.feather')\n",
    "VACCINATION = pd.read_feather('../data/01_raw/vaccinations.feather')\n",
    "METADATA = pd.merge(TESTS, VACCINATION, on='user_id')\n",
    "WEEKLY_DEVIATIONS = pd.read_feather('../data/03_derived/weekly_vital_deviations_per_user.feather')\n",
    "COHORTS = pd.read_feather('../data/03_derived/user_cohorts.feather')"
   ]
  },
  {
   "cell_type": "code",
   "execution_count": null,
   "id": "87f09e14",
   "metadata": {},
   "outputs": [],
   "source": [
    "def figure_breakthrough_timing():\n",
    "\n",
    "    f, ax = plt.subplots(figsize=(4,3))\n",
    "    \n",
    "    vaccinated_users = COHORTS[COHORTS.vaccinated].user_id.values\n",
    "    valid_users = WEEKLY_DEVIATIONS[WEEKLY_DEVIATIONS.userid.isin(vaccinated_users)].userid.unique()\n",
    "    \n",
    "    temp = METADATA[METADATA.user_id.isin(valid_users)].copy()\n",
    "    temp['dt'] = temp.test_date - temp.third_dose\n",
    "    temp.loc[temp.dt.isna(), 'dt'] = temp[temp.dt.isna()].test_date - temp[temp.dt.isna()].second_dose\n",
    "    \n",
    "    x = np.array([t.days // 30 for t  in temp.dt])\n",
    "\n",
    "    print('Share of breakthrough cases in month after vaccination:', (x == 0).sum() / len(x))\n",
    "    \n",
    "    ax.hist(x, bins=np.arange(-0.4, 11.5, 1), width=0.8, color=flatuicolors.midnightblue)\n",
    "    styling.hide_and_move_axis(ax)\n",
    "    ax.set_xlabel('Months since vaccination')\n",
    "    ax.set_ylabel('Number of recorded\\nbreakthrough infections')\n",
    "    \n",
    "    plt.tight_layout()\n",
    "    plt.savefig('../output/si_figure4_time_between_vaccination_and_infection.jpg', dpi=400)"
   ]
  },
  {
   "cell_type": "code",
   "execution_count": null,
   "id": "bcdda7f5",
   "metadata": {},
   "outputs": [],
   "source": [
    "figure_breakthrough_timing()"
   ]
  }
 ],
 "metadata": {
  "kernelspec": {
   "display_name": "Python 3 (ipykernel)",
   "language": "python",
   "name": "python3"
  },
  "language_info": {
   "codemirror_mode": {
    "name": "ipython",
    "version": 3
   },
   "file_extension": ".py",
   "mimetype": "text/x-python",
   "name": "python",
   "nbconvert_exporter": "python",
   "pygments_lexer": "ipython3",
   "version": "3.10.9"
  }
 },
 "nbformat": 4,
 "nbformat_minor": 5
}
