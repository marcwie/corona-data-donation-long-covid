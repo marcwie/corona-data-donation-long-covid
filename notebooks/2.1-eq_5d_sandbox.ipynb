{
 "cells": [
  {
   "cell_type": "code",
   "execution_count": null,
   "id": "67131383",
   "metadata": {},
   "outputs": [],
   "source": [
    "import pandas as pd\n",
    "import numpy as np\n",
    "from long_covid.colors import flatuicolors\n",
    "from long_covid import styling\n",
    "from matplotlib import pyplot as plt\n",
    "from scipy.stats import ttest_ind\n",
    "from statsmodels.stats.proportion import proportions_ztest\n",
    "from datetime import timedelta"
   ]
  },
  {
   "cell_type": "markdown",
   "id": "506f5490",
   "metadata": {},
   "source": [
    "# EQ5D"
   ]
  },
  {
   "cell_type": "code",
   "execution_count": null,
   "id": "608a4a11",
   "metadata": {},
   "outputs": [],
   "source": [
    "tests = load('data/recent_tests.feather', True, pcr_tests)\n",
    "vaccs = load('data/recent_vaccs.feather', True, vaccinations)\n",
    "    \n",
    "metadata = pd.merge(vaccs, tests, on='user_id')"
   ]
  },
  {
   "cell_type": "code",
   "execution_count": null,
   "id": "5b5c72a4",
   "metadata": {},
   "outputs": [],
   "source": [
    "def load_eq5d(elements=(144, 145, 146, 147, 148)):\n",
    "    \n",
    "    if len(elements) == 1:\n",
    "        formatter = '('+str(elements[0]) + ')'\n",
    "    else:\n",
    "        formatter = str(elements)\n",
    "    \n",
    "    query = \"\"\"\n",
    "    SELECT \n",
    "        answers.user_id, answers.questionnaire_session, answers.created_at, choice.choice_id \n",
    "    FROM \n",
    "        datenspende.answers, datenspende.choice \n",
    "    WHERE\n",
    "        answers.element = choice.element and \n",
    "        answers.question in {0}\n",
    "    \"\"\".format(formatter)\n",
    "\n",
    "    db = postgre()\n",
    "    \n",
    "    df = pd.read_sql(query, db.conn)\n",
    "    \n",
    "    df = df.groupby(['user_id','questionnaire_session']).agg({'created_at': 'mean', 'choice_id': ['sum', 'count']})\n",
    "    df.columns = df.columns.get_level_values(1)\n",
    "    df['mean'] = pd.to_datetime(df['mean'], unit='ms').dt.date\n",
    "    df.rename(columns={'mean': 'date', 'sum': 'EQ5D'}, inplace=True)\n",
    "    df = df[df['count'] == len(elements)]\n",
    "    df.drop(columns='count', inplace=True)\n",
    "    \n",
    "    return df.reset_index()"
   ]
  },
  {
   "cell_type": "code",
   "execution_count": null,
   "id": "56c74280",
   "metadata": {},
   "outputs": [],
   "source": [
    "LABEL = [\n",
    "    'Overall health problems',\n",
    "    'Problems in walking about',\n",
    "    'Problems washing or dressing',\n",
    "    'Problems in usual activities',\n",
    "    'Pain or discomfort',\n",
    "    'Anxiety and depression'\n",
    "]   \n",
    "    \n",
    "\n",
    "f, axarr = plt.subplots(2, 3, figsize=(10, 6))\n",
    "\n",
    "ELEMENTS = [(144, 145, 146, 147, 148), (144, ), (145, ), (146, ), (147, ), (148, )]\n",
    "\n",
    "for element, ax, label in zip(ELEMENTS, axarr.flatten(), LABEL):\n",
    "\n",
    "    eq5d = load_eq5d(elements=element)\n",
    "    \n",
    "    df = pd.merge(eq5d, metadata, on='user_id')\n",
    "    df['EQ5D_trunc'] = round(df['EQ5D'] / len(element))\n",
    "    \n",
    "    #df = df[df.EQ5D_trunc > 1]\n",
    "    #print(df.EQ5D_trunc.value_counts())\n",
    "\n",
    "    ucount, x = np.histogram(df[df.user_id.isin(COHORTS['unvaccinated'])].EQ5D_trunc, bins=np.arange(0.5, 5.5))\n",
    "    vcount, x = np.histogram(df[df.user_id.isin(COHORTS['vaccinated'])].EQ5D_trunc, bins=np.arange(0.5, 5.5))\n",
    "    ncount, x = np.histogram(df[df.user_id.isin(COHORTS['negative'])].EQ5D_trunc, bins=np.arange(0.5, 5.5))\n",
    "    \n",
    "    print(ucount.sum(), vcount.sum(), ncount.sum())\n",
    "    ucount = ucount / len(df[df.user_id.isin(COHORTS['unvaccinated'])])\n",
    "    vcount = vcount / len(df[df.user_id.isin(COHORTS['vaccinated'])])\n",
    "    ncount = ncount / len(df[df.user_id.isin(COHORTS['negative'])])\n",
    "    \n",
    "    x = x[:-1] + np.diff(x)[0] / 2\n",
    "    width = np.diff(x)[0] / 3 * .7\n",
    "\n",
    "    ax.bar(x-1.15 * width, ucount, width=width, label='Unvaccinated', color=flatuicolors.pomegranate)\n",
    "    ax.bar(x, vcount, width=width, label='Vaccinated', color=flatuicolors.amethyst)\n",
    "    ax.bar(x+1.15 * width, ncount, width=width, label='Negative', color=flatuicolors.belizehole)\n",
    "\n",
    "\n",
    "    styling.hide_and_move_axis(ax)\n",
    "    ax.set_xticks([1, 2, 3, 4, 5])\n",
    "    ax.set_xticklabels(['None', 'Slight', 'Intermediate', 'Large', 'Extreme'], rotation=45, ha=\"right\")\n",
    "    \n",
    "    ax.set_title(label)\n",
    "    \n",
    "for ax in axarr[:, 0]:\n",
    "    ax.set_ylabel('Relative frequency')\n",
    "    \n",
    "ax.legend()\n",
    "plt.tight_layout()\n",
    "plt.savefig('output/eq5d.jpg', dpi=400)"
   ]
  }
 ],
 "metadata": {
  "kernelspec": {
   "display_name": "Python 3 (ipykernel)",
   "language": "python",
   "name": "python3"
  },
  "language_info": {
   "codemirror_mode": {
    "name": "ipython",
    "version": 3
   },
   "file_extension": ".py",
   "mimetype": "text/x-python",
   "name": "python",
   "nbconvert_exporter": "python",
   "pygments_lexer": "ipython3",
   "version": "3.10.9"
  }
 },
 "nbformat": 4,
 "nbformat_minor": 5
}
