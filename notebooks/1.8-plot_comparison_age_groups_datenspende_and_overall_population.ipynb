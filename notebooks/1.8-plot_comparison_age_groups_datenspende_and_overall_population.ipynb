{
 "cells": [
  {
   "cell_type": "code",
   "execution_count": null,
   "id": "dbaca452",
   "metadata": {},
   "outputs": [],
   "source": [
    "import pandas as pd\n",
    "from matplotlib import pyplot as plt\n",
    "from long_covid.colors import flatuicolors\n",
    "from long_covid import styling\n",
    "import numpy as np"
   ]
  },
  {
   "cell_type": "code",
   "execution_count": null,
   "id": "8cb00fea",
   "metadata": {},
   "outputs": [],
   "source": [
    "USERS = pd.read_feather('../data/02_processed/users_processed.feather')"
   ]
  },
  {
   "cell_type": "code",
   "execution_count": null,
   "id": "f6fe0924",
   "metadata": {},
   "outputs": [],
   "source": [
    "def figure_si_age_groups(users):\n",
    "    \n",
    "    f, ax = plt.subplots(figsize=(5,3.8))\n",
    "\n",
    "    count, bins = np.histogram(users['age'], bins=[0, 21, 25, 40, 60, 65, 100])\n",
    "\n",
    "    german_pop = pd.read_excel(\n",
    "        '../data/00_external/statistic_id1365_bevoelkerung-deutschlands-nach-relevanten-altersgruppen-2020.xlsx', \n",
    "        sheet_name='Daten',\n",
    "        header=4,\n",
    "        usecols=[1, 2],\n",
    "        nrows=10,\n",
    "    )\n",
    "\n",
    "    german_vals = np.append([german_pop['2020'][:5].sum()], german_pop['2020'][5:].values)\n",
    "    german_vals /= german_vals.sum()\n",
    "\n",
    "    ax.bar(np.arange(len(count)) - 0.22, count / count.sum(), width=0.37, label='Study cohort', color=flatuicolors.midnightblue)\n",
    "    ax.bar(np.arange(len(german_vals)) + 0.22, german_vals, width=0.37, label='German Population', color=flatuicolors.concrete)\n",
    "\n",
    "    ax.set_xticks(np.arange(len(count)))\n",
    "    ax.set_xticklabels(['0-20', '20-24', '25-39', '40-59', '60-64', '65+'])\n",
    "\n",
    "    styling.hide_and_move_axis(ax)\n",
    "    ax.legend(loc='upper left')\n",
    "\n",
    "    ax.set_xlabel('Age group')\n",
    "    ax.set_ylabel('Relative frequency')\n",
    "\n",
    "    ax.set_ylim(0, 0.6)\n",
    "    plt.tight_layout()\n",
    "    plt.savefig('../output/si_figure5_age_groups_new.jpg', dpi=400)"
   ]
  },
  {
   "cell_type": "code",
   "execution_count": null,
   "id": "d27d78b2",
   "metadata": {},
   "outputs": [],
   "source": [
    "figure_si_age_groups(USERS)"
   ]
  }
 ],
 "metadata": {
  "kernelspec": {
   "display_name": "Python 3 (ipykernel)",
   "language": "python",
   "name": "python3"
  },
  "language_info": {
   "codemirror_mode": {
    "name": "ipython",
    "version": 3
   },
   "file_extension": ".py",
   "mimetype": "text/x-python",
   "name": "python",
   "nbconvert_exporter": "python",
   "pygments_lexer": "ipython3",
   "version": "3.10.9"
  }
 },
 "nbformat": 4,
 "nbformat_minor": 5
}
