{
 "cells": [
  {
   "cell_type": "code",
   "execution_count": null,
   "id": "094ceb61",
   "metadata": {},
   "outputs": [],
   "source": [
    "import pandas as pd\n",
    "from long_covid.colors import flatuicolors\n",
    "from long_covid import styling\n",
    "from matplotlib import pyplot as plt\n",
    "from matplotlib.colors import to_rgba"
   ]
  },
  {
   "cell_type": "code",
   "execution_count": null,
   "id": "2c61f1e5",
   "metadata": {},
   "outputs": [],
   "source": [
    "# Global variables for styling\n",
    "X_LABEL = 'Weeks since PCR-test'\n",
    "Y_LABELS = ['Change in RHR [bpm]', 'Change in daily steps', 'Change in daily sleep\\nduration [minutes]']\n",
    "    \n",
    "# Globally accessible input data\n",
    "COHORTS = pd.read_feather('../data/03_derived/user_cohorts.feather')\n",
    "WEEKLY_DEVIATIONS = pd.read_feather('../data/03_derived/weekly_vital_deviations_per_user.feather')"
   ]
  },
  {
   "cell_type": "code",
   "execution_count": null,
   "id": "def8a045",
   "metadata": {},
   "outputs": [],
   "source": [
    "f, axarr = plt.subplots(3, 2, sharex='col', sharey='row', figsize=(6, 6))\n",
    "\n",
    "colors = [flatuicolors.pomegranate, flatuicolors.amethyst]\n",
    "\n",
    "for i, cohort in enumerate(['unvaccinated', 'vaccinated']):\n",
    "    users = COHORTS[COHORTS[cohort]].user_id.values\n",
    "    c = colors[i]\n",
    "    \n",
    "    for j, vital in enumerate([65, 9, 43]):\n",
    "        ax = axarr[j, i]\n",
    "        data = WEEKLY_DEVIATIONS[WEEKLY_DEVIATIONS.userid.isin(users) & (WEEKLY_DEVIATIONS.vitalid == vital)]\n",
    "        \n",
    "        if cohort == 'unvaccinated':\n",
    "            data = data[(data.weeks_since_test >= -3) & (data.weeks_since_test <= 15)]\n",
    "             \n",
    "        if cohort == 'vaccinated':\n",
    "            data = data[(data.weeks_since_test >= -3) & (data.weeks_since_test <= 12)]\n",
    "        \n",
    "        average = data.groupby('weeks_since_test').vital_change.mean()\n",
    "        \n",
    "        if cohort == 'unvaccinated':\n",
    "            weeks = range(-3, 15)\n",
    "        else:\n",
    "            weeks = range(-3, 13)\n",
    "        \n",
    "        for week in weeks:\n",
    "            bplot = ax.boxplot(\n",
    "                data[data.weeks_since_test == week].vital_change.values, \n",
    "                positions=[week],\n",
    "                patch_artist=True,\n",
    "                widths=0.75,\n",
    "                flierprops={'markeredgecolor': c, 'markersize': 2, 'alpha': 0.5},\n",
    "                medianprops={'c': c, 'lw': 1.5},\n",
    "            )\n",
    "            \n",
    "            bplot['boxes'][0].set_facecolor(to_rgba(c, 0.2))\n",
    "            bplot['boxes'][0].set_edgecolor('k')\n",
    "            \n",
    "        styling.hide_and_move_axis(ax)\n",
    "                \n",
    "axarr[0, 0].set_xticks(range(-2, 15, 2))\n",
    "axarr[0, 1].set_xticks(range(-2, 13, 2))\n",
    "\n",
    "axarr[0, 0].set_xticklabels(range(-2, 15, 2))\n",
    "axarr[0, 1].set_xticklabels(range(-2, 13, 2))\n",
    "\n",
    "for ax in axarr[-1, :]:\n",
    "    ax.set_xlabel(X_LABEL)\n",
    "    \n",
    "for ax, label in zip(axarr[:, 0], Y_LABELS):\n",
    "    ax.set_ylabel(label)\n",
    "\n",
    "axarr[0, 0].set_title('Unvaccinated')\n",
    "axarr[0, 1].set_title('Vaccinated')\n",
    "\n",
    "plt.tight_layout()\n",
    "plt.savefig('../output/si_figure8_dot_plot_vital_changes.pdf')"
   ]
  }
 ],
 "metadata": {
  "kernelspec": {
   "display_name": "Python 3 (ipykernel)",
   "language": "python",
   "name": "python3"
  },
  "language_info": {
   "codemirror_mode": {
    "name": "ipython",
    "version": 3
   },
   "file_extension": ".py",
   "mimetype": "text/x-python",
   "name": "python",
   "nbconvert_exporter": "python",
   "pygments_lexer": "ipython3",
   "version": "3.10.9"
  }
 },
 "nbformat": 4,
 "nbformat_minor": 5
}
