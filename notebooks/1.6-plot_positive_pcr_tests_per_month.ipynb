{
 "cells": [
  {
   "cell_type": "code",
   "execution_count": null,
   "id": "0e0d1578",
   "metadata": {},
   "outputs": [],
   "source": [
    "import pandas as pd\n",
    "from matplotlib import pyplot as plt\n",
    "from datetime import timedelta\n",
    "from long_covid.colors import flatuicolors\n",
    "from long_covid import styling\n",
    "import datetime \n",
    "import matplotlib.dates as mdates"
   ]
  },
  {
   "cell_type": "code",
   "execution_count": null,
   "id": "4aefc2d9",
   "metadata": {},
   "outputs": [],
   "source": [
    "COHORTS = pd.read_feather('../data/03_derived/user_cohorts.feather')\n",
    "TESTS = pd.read_feather('../data/01_raw/tests.feather')\n",
    "WEEKLY_DEVIATIONS = pd.read_feather('../data/03_derived/weekly_vital_deviations_per_user.feather')"
   ]
  },
  {
   "cell_type": "code",
   "execution_count": null,
   "id": "23aafc29",
   "metadata": {},
   "outputs": [],
   "source": [
    "def monthly_reports():\n",
    "    \n",
    "    f, ax = plt.subplots(figsize=(4.5,3))\n",
    "\n",
    "    unvaccinated_users = COHORTS.user_id[COHORTS['unvaccinated']].values \n",
    "    vaccinated_users = COHORTS.user_id[COHORTS['vaccinated']].values \n",
    "    \n",
    "    users = WEEKLY_DEVIATIONS[WEEKLY_DEVIATIONS.userid.isin(unvaccinated_users)].userid.unique()\n",
    "    tests = TESTS[TESTS.user_id.isin(users)]\n",
    "    tests.set_index('test_date', inplace=True)\n",
    "    unvaccinated_users = tests.resample('1M').count()\n",
    "    \n",
    "    users = WEEKLY_DEVIATIONS[WEEKLY_DEVIATIONS.userid.isin(vaccinated_users)].userid.unique()\n",
    "    tests = TESTS[TESTS.user_id.isin(users)]\n",
    "    tests.set_index('test_date', inplace=True)\n",
    "    vaccinated_users = tests.resample('1M').count()\n",
    "        \n",
    "    plot_data = pd.merge(vaccinated_users, unvaccinated_users, how='outer', on='test_date')\n",
    "    plot_data.sort_index(inplace=True)\n",
    "    plot_data = plot_data[2:]\n",
    "    \n",
    "    ax.bar(plot_data.index - timedelta(days=30), plot_data.user_id_x, width=20, color=flatuicolors.amethyst, label='Vaccinated')\n",
    "    ax.bar(plot_data.index - timedelta(days=30), plot_data.user_id_y.fillna(0), width=20, bottom=plot_data.user_id_x.fillna(0), color=flatuicolors.pomegranate, label='Unvaccinated')\n",
    "    ax.legend(loc='upper left')\n",
    "\n",
    "    ax.set_ylabel('Number of self-reported\\npositive PCR-tests')\n",
    "    \n",
    "    styling.hide_and_move_axis(ax)\n",
    "    ax.semilogy()\n",
    "    ax.set_ylim(0.5, 2E3)\n",
    "    ax.xaxis.set_major_formatter(mdates.ConciseDateFormatter(ax.xaxis.get_major_locator()))\n",
    "    \n",
    "    plt.tight_layout()\n",
    "    plt.savefig('../output/si_figure1_pcr_counts.jpg', dpi=400)"
   ]
  },
  {
   "cell_type": "code",
   "execution_count": null,
   "id": "3611181f",
   "metadata": {},
   "outputs": [],
   "source": [
    "monthly_reports()"
   ]
  }
 ],
 "metadata": {
  "kernelspec": {
   "display_name": "Python 3 (ipykernel)",
   "language": "python",
   "name": "python3"
  },
  "language_info": {
   "codemirror_mode": {
    "name": "ipython",
    "version": 3
   },
   "file_extension": ".py",
   "mimetype": "text/x-python",
   "name": "python",
   "nbconvert_exporter": "python",
   "pygments_lexer": "ipython3",
   "version": "3.10.9"
  }
 },
 "nbformat": 4,
 "nbformat_minor": 5
}
