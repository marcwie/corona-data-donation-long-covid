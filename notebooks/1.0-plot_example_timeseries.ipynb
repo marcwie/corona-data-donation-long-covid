{
 "cells": [
  {
   "cell_type": "code",
   "execution_count": null,
   "id": "b2b64f69",
   "metadata": {},
   "outputs": [],
   "source": [
    "import pandas as pd\n",
    "from matplotlib import pyplot as plt\n",
    "from long_covid.colors import flatuicolors\n",
    "from long_covid import styling\n",
    "import numpy as np\n",
    "import matplotlib.dates as mdates"
   ]
  },
  {
   "cell_type": "code",
   "execution_count": null,
   "id": "bdc562ac",
   "metadata": {},
   "outputs": [],
   "source": [
    "TESTDATA = '../data/raw/tests.feather'\n",
    "VITALS = '../data/raw/vitals_processed.feather'\n",
    "\n",
    "BASELINE_LENGTH = 54"
   ]
  },
  {
   "cell_type": "code",
   "execution_count": null,
   "id": "018f28da",
   "metadata": {},
   "outputs": [],
   "source": [
    "tests = pd.read_feather(TESTDATA)\n",
    "vitals = pd.read_feather(VITALS)"
   ]
  },
  {
   "cell_type": "code",
   "execution_count": null,
   "id": "11f17e2e",
   "metadata": {},
   "outputs": [],
   "source": [
    "def plot_example_timeseries(vitals, tests, unvacc_user, unvacc_user_device, vacc_user, vacc_user_device, filename):\n",
    "    \n",
    "    f, axarr = plt.subplots(3, 2, sharex='col', figsize=(8, 4))\n",
    "    \n",
    "    left_panel = (unvacc_user, unvacc_user_device, flatuicolors.pomegranate, axarr[:, 0])\n",
    "    right_panel = (vacc_user, vacc_user_device, flatuicolors.wisteria, axarr[:, 1])\n",
    "    \n",
    "    plot_data = {\n",
    "        65: {'label': 'Resting heart rate\\n[bpm]', 'ymin': None, 'ymax': None, 'ylim': None, 'norm': 1},\n",
    "        9: {'label': 'Activity\\n[steps/day]', 'ymin': None, 'ymax': 20000, 'ylim': (0, 15000), 'norm': 1 },\n",
    "        43: {'label': 'Sleep duration\\n[hrs/day]','ymin': 250, 'ymax': None, 'ylim': (5, 15), 'norm': 60 }\n",
    "    }\n",
    "    \n",
    "    for userid, deviceid, color, axes in (left_panel, right_panel):\n",
    "        \n",
    "        testdate = tests[tests.user_id == userid].test_date.values[0]\n",
    "\n",
    "        for ax, vitalid in zip(axes, (65, 9, 43)):\n",
    "\n",
    "            to_plot = vitals[\n",
    "                (vitals.userid == userid) & \n",
    "                (vitals.vitalid == vitalid) & \n",
    "                (vitals.deviceid == deviceid) &\n",
    "                (vitals.date.between(testdate - np.timedelta64(BASELINE_LENGTH,'D'), testdate + np.timedelta64(90,'D')))\n",
    "            ]\n",
    "            \n",
    "            x, y = to_plot[['date', 'raw_value']].sort_values(by='date').values.T\n",
    "\n",
    "            if plot_data[vitalid]['ymin']:\n",
    "                x = x[y > plot_data[vitalid]['ymin']]\n",
    "                y = y[y > plot_data[vitalid]['ymin']]\n",
    "                \n",
    "            if plot_data[vitalid]['ymax']:\n",
    "                x = x[y < plot_data[vitalid]['ymax']]\n",
    "                y = y[y < plot_data[vitalid]['ymax']]\n",
    "              \n",
    "            if plot_data[vitalid]['ylim']:\n",
    "                ax.set_ylim(plot_data[vitalid]['ylim'])\n",
    "                \n",
    "            y = y / plot_data[vitalid]['norm']\n",
    "            ax.set_ylabel(plot_data[vitalid]['label'])\n",
    "                \n",
    "            ax.plot(x, y, c=color, lw=1.2, alpha=0.9, zorder=10)\n",
    "            ax.axhline(y[:BASELINE_LENGTH].mean(), color=flatuicolors.midnightblue, ls='--')\n",
    "            \n",
    "        rect = plt.Rectangle((testdate, -0.04), width=np.timedelta64(7,'D'), height=3+2*f.subplotpars.hspace+0.15,\n",
    "                     transform=ax.get_xaxis_transform(), clip_on=False,\n",
    "                     edgecolor='none', facecolor=\"k\", alpha=0.25, linewidth=3)\n",
    "        \n",
    "        ax.add_patch(rect)\n",
    "        ax.xaxis.set_major_formatter(mdates.ConciseDateFormatter(ax.xaxis.get_major_locator()))\n",
    "\n",
    "    for ax in axarr[:2, 0]:\n",
    "        styling.hide_and_move_axis(ax, hide=['top', 'right', 'bottom'])\n",
    "        ax.xaxis.set_visible(False)\n",
    "        \n",
    "    for ax in axarr[:2, 1]:\n",
    "        styling.hide_and_move_axis(ax, hide=['top', 'left', 'bottom'])\n",
    "        ax.xaxis.set_visible(False)\n",
    "        \n",
    "    styling.hide_and_move_axis(axarr[2, 0], hide=['top', 'right'])\n",
    "    styling.hide_and_move_axis(axarr[2, 1], hide=['top', 'left'])\n",
    "\n",
    "    axarr[0, 0].set_ylim(60, 80)\n",
    "    axarr[0, 1].set_ylim(45, 60)\n",
    "\n",
    "    plt.subplots_adjust(wspace=0.03, hspace=0.24, bottom=0.075, top=0.97, left=0.14, right=0.86)\n",
    "    plt.savefig(filename, dpi=400)"
   ]
  },
  {
   "cell_type": "code",
   "execution_count": null,
   "id": "d18f47b2",
   "metadata": {},
   "outputs": [],
   "source": [
    "plot_example_timeseries(vitals, tests, 276043, 2, 460177, 2, '../output/timeseries_processed.jpg')"
   ]
  }
 ],
 "metadata": {
  "kernelspec": {
   "display_name": "Python 3 (ipykernel)",
   "language": "python",
   "name": "python3"
  },
  "language_info": {
   "codemirror_mode": {
    "name": "ipython",
    "version": 3
   },
   "file_extension": ".py",
   "mimetype": "text/x-python",
   "name": "python",
   "nbconvert_exporter": "python",
   "pygments_lexer": "ipython3",
   "version": "3.10.9"
  }
 },
 "nbformat": 4,
 "nbformat_minor": 5
}
