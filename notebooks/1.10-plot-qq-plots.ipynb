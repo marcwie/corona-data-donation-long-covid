{
 "cells": [
  {
   "cell_type": "code",
   "execution_count": null,
   "id": "094ceb61",
   "metadata": {},
   "outputs": [],
   "source": [
    "import pandas as pd\n",
    "from long_covid.colors import flatuicolors\n",
    "from long_covid import styling\n",
    "from matplotlib import pyplot as plt\n",
    "from scipy import stats"
   ]
  },
  {
   "cell_type": "code",
   "execution_count": null,
   "id": "2c61f1e5",
   "metadata": {},
   "outputs": [],
   "source": [
    "# Globally accessible input data\n",
    "COHORTS = pd.read_feather('../data/03_derived/user_cohorts.feather')\n",
    "WEEKLY_DEVIATIONS = pd.read_feather('../data/03_derived/weekly_vital_deviations_per_user.feather')"
   ]
  },
  {
   "cell_type": "code",
   "execution_count": null,
   "id": "02229c8c",
   "metadata": {},
   "outputs": [],
   "source": [
    "def trim_axs(axs, N):\n",
    "    \"\"\"\n",
    "    Reduce *axs* to *N* Axes. All further Axes are removed from the figure.\n",
    "    \"\"\"\n",
    "    axs = axs.flat\n",
    "    for ax in axs[N:]:\n",
    "        ax.remove()\n",
    "    return axs[:N]\n",
    "\n",
    "\n",
    "def QQplot(cohort, color, vitalid, max_week, output_path):\n",
    "    \n",
    "    size = 10.5\n",
    "    \n",
    "    if max_week == 15:\n",
    "        f, axarr = plt.subplots(5, 4, figsize=(size, size))\n",
    "        axarr = trim_axs(axarr, 3 + max_week + 1)\n",
    "    \n",
    "    elif max_week == 12:\n",
    "        f, axarr = plt.subplots(4, 4, figsize=(size, size * 0.83), sharex=True, sharey=True)\n",
    "\n",
    "    users = COHORTS[COHORTS.unvaccinated].user_id.values\n",
    "    data = WEEKLY_DEVIATIONS[WEEKLY_DEVIATIONS.userid.isin(users) & (WEEKLY_DEVIATIONS.vitalid == vitalid)]\n",
    "\n",
    "    for week, ax in zip(range(-3, max_week+1), axarr.flatten()):\n",
    "        stats.probplot(data[data.weeks_since_test == week].vital_change.values, dist=\"norm\", plot=ax)\n",
    "        styling.hide_and_move_axis(ax)\n",
    "\n",
    "        ax.set_ylabel(\"Sample quantiles\")\n",
    "        ax.set_xlabel(\"Normal theoretical quantiles\")\n",
    "        \n",
    "        if week > 1:\n",
    "            ax.set_title(f\"{week} weeks since test\", size=10)\n",
    "        elif week < -1:\n",
    "            week = abs(week)\n",
    "            ax.set_title(f\"{week} weeks before test\", size=10)\n",
    "        elif week == 1:\n",
    "            ax.set_title(f\"{week} week since test\", size=10)\n",
    "        elif week == -1:\n",
    "            week = abs(week)\n",
    "            ax.set_title(f\"{week} week before test\", size=10)            \n",
    "        else:\n",
    "            ax.set_title(f\"Week of test\", size=10)\n",
    "\n",
    "        ax.get_lines()[0].set_markerfacecolor(color)\n",
    "        ax.get_lines()[0].set_markeredgecolor(color)\n",
    "        ax.get_lines()[0].set_markersize(4)\n",
    "        ax.get_lines()[1].set_color('k')\n",
    "       \n",
    "    plt.tight_layout()\n",
    "    plt.savefig(output_path)"
   ]
  },
  {
   "cell_type": "code",
   "execution_count": null,
   "id": "97dbb5dd",
   "metadata": {},
   "outputs": [],
   "source": [
    "QQplot('negative', flatuicolors.belizehole, 65, 15, '../output/qq_negative_rhr.pdf')\n",
    "QQplot('negative', flatuicolors.belizehole, 9, 15, '../output/qq_negative_steps.pdf')\n",
    "QQplot('negative', flatuicolors.belizehole, 43, 15, '../output/qq_negative_sleep.pdf')\n",
    "\n",
    "QQplot('vaccinated', flatuicolors.amethyst, 65, 12, '../output/qq_vaccinated_rhr.pdf')\n",
    "QQplot('vaccinated', flatuicolors.amethyst, 9, 12, '../output/qq_vaccinated_steps.pdf')\n",
    "QQplot('vaccinated', flatuicolors.amethyst, 43, 12, '../output/qq_vaccinated_sleep.pdf')\n",
    "\n",
    "QQplot('unvaccinated', flatuicolors.pomegranate, 65, 15, '../output/qq_unvaccinated_rhr.pdf')\n",
    "QQplot('unvaccinated', flatuicolors.pomegranate, 9, 15, '../output/qq_unvaccinated_steps.pdf')\n",
    "QQplot('unvaccinated', flatuicolors.pomegranate, 43, 15, '../output/qq_unvaccinated_sleep.pdf')"
   ]
  }
 ],
 "metadata": {
  "kernelspec": {
   "display_name": "Python 3 (ipykernel)",
   "language": "python",
   "name": "python3"
  },
  "language_info": {
   "codemirror_mode": {
    "name": "ipython",
    "version": 3
   },
   "file_extension": ".py",
   "mimetype": "text/x-python",
   "name": "python",
   "nbconvert_exporter": "python",
   "pygments_lexer": "ipython3",
   "version": "3.10.9"
  }
 },
 "nbformat": 4,
 "nbformat_minor": 5
}
