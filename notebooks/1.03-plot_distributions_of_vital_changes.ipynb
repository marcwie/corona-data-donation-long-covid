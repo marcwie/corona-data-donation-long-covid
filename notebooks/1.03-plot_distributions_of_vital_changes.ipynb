{
 "cells": [
  {
   "cell_type": "code",
   "execution_count": null,
   "id": "6bcd8f18",
   "metadata": {},
   "outputs": [],
   "source": [
    "import datetime\n",
    "import pandas as pd\n",
    "from matplotlib import pyplot as plt\n",
    "import numpy as np\n",
    "from long_covid.colors import flatuicolors\n",
    "from long_covid import styling"
   ]
  },
  {
   "cell_type": "code",
   "execution_count": null,
   "id": "e0b41e68",
   "metadata": {},
   "outputs": [],
   "source": [
    "# Globally accessible input data\n",
    "WEEKLY_DEVIATIONS = pd.read_feather('../data/03_derived/weekly_vital_deviations_per_user.feather')\n",
    "COHORTS = pd.read_feather('../data/03_derived/user_cohorts.feather')\n",
    "\n",
    "# Global variables for styling\n",
    "COHORT_KEYS = ['negative', 'vaccinated', 'unvaccinated'] \n",
    "LABELS = [key.capitalize() for key in COHORT_KEYS]\n",
    "COLORS = [flatuicolors.belizehole, flatuicolors.amethyst, flatuicolors.pomegranate]\n",
    "X_LABELS = ['RHR increase [bpm/day]', 'Activity reduction [steps/day]', 'Sleep increase [min/day]']\n",
    "VITAL_IDS = [65, 9, 43]\n",
    "BAR_OFFSET = [-1.15, 0, 1.15]\n",
    "BINS = [np.arange(-1, 12, 2), np.arange(-11000, 2000, 2000), np.arange(-15, 180, 30)]\n",
    "BIN_LABELS = [\n",
    "    ('<1', '2', '4', '6', '8', '>9'), \n",
    "    ['<1000', '2000', '4000', '6000', '8000', '>9000'][::-1],\n",
    "    ('<15', '30', '60', '90', '120', '>135')\n",
    "]\n",
    "\n",
    "OUTFILE = '../output/figure3_change_frequencies.pdf'"
   ]
  },
  {
   "cell_type": "code",
   "execution_count": null,
   "id": "ef71818d",
   "metadata": {},
   "outputs": [],
   "source": [
    "def vital_change_distributions(outfile):\n",
    "\n",
    "    # Obtain list of user ids for each cohort\n",
    "    cohorts = [COHORTS.user_id[COHORTS[key]].values for key in COHORT_KEYS]     \n",
    "    \n",
    "    f, axarr = plt.subplots(1, 3, figsize=(10, 3), sharey=True)\n",
    "\n",
    "    # Iterate over every cohort\n",
    "    for (offset, color, label, cohort) in zip(BAR_OFFSET, COLORS, LABELS, cohorts):\n",
    "    \n",
    "        # Iterate over all vitals\n",
    "        for ax, vital, bins, xlabel, binlabel in zip(axarr, VITAL_IDS, BINS, X_LABELS, BIN_LABELS):\n",
    "\n",
    "            # Get all weekly per-user deviations in the first month after a test\n",
    "            a = WEEKLY_DEVIATIONS[\n",
    "                (WEEKLY_DEVIATIONS.vitalid == vital) & \n",
    "                WEEKLY_DEVIATIONS.weeks_since_test.between(0, 4)\n",
    "            ]\n",
    "\n",
    "            # Set all values smaller than the minimum bin to the minimum bin\n",
    "            a.loc[a.vital_change < bins[0], 'vital_change'] = bins[0]\n",
    "            \n",
    "            # Likewise, set all values larger than the maximum bin to the maximum bin\n",
    "            a.loc[a.vital_change > bins[-1], 'vital_change'] = bins[-1]\n",
    "\n",
    "            # Compute relative frequencies for the considered cohort\n",
    "            count, x = np.histogram(a[a.userid.isin(cohort)].vital_change, bins=bins)\n",
    "            count = count / len(a[a.userid.isin(cohort)])\n",
    "        \n",
    "            # Center x-values at the center of each bin\n",
    "            x = x[:-1] + np.diff(x)[0] / 2\n",
    "            width = np.diff(x)[0] / 3 * .7\n",
    "\n",
    "            # Flip the sign so that reduction of steps has a positive value\n",
    "            if vital == 9:\n",
    "                x *= -1\n",
    "\n",
    "            # Draw the bars\n",
    "            ax.bar(x + offset * width, count, width=width, color=color, label=label)\n",
    "            ax.set_xticks(x)\n",
    "            \n",
    "\n",
    "    # Style the plot\n",
    "    axarr[0].set_ylabel('Relative frequency', size=12)\n",
    "    axarr[0].legend(loc='center right', frameon=False)\n",
    "    \n",
    "    for ax, xlabel, binlabel in zip(axarr, X_LABELS, BIN_LABELS):\n",
    "        styling.hide_and_move_axis(ax)\n",
    "        ax.set_xlabel(xlabel, size=12)\n",
    "        ax.set_xticklabels(binlabel)\n",
    "            \n",
    "    # Add labels\n",
    "    axarr[0].text(10, .61, 'A', size=24)\n",
    "    axarr[1].text(10000, .61, 'B', size=24)\n",
    "    axarr[2].text(150, .61, 'C', size=24)\n",
    "\n",
    "    plt.tight_layout()\n",
    "    plt.savefig(outfile, dpi=400)"
   ]
  },
  {
   "cell_type": "code",
   "execution_count": null,
   "id": "2ad8d9a4",
   "metadata": {},
   "outputs": [],
   "source": [
    "vital_change_distributions(OUTFILE)"
   ]
  }
 ],
 "metadata": {
  "kernelspec": {
   "display_name": "Python 3 (ipykernel)",
   "language": "python",
   "name": "python3"
  },
  "language_info": {
   "codemirror_mode": {
    "name": "ipython",
    "version": 3
   },
   "file_extension": ".py",
   "mimetype": "text/x-python",
   "name": "python",
   "nbconvert_exporter": "python",
   "pygments_lexer": "ipython3",
   "version": "3.10.9"
  }
 },
 "nbformat": 4,
 "nbformat_minor": 5
}
