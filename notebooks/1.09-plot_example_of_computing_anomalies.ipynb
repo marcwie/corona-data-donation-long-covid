{
 "cells": [
  {
   "cell_type": "code",
   "execution_count": null,
   "id": "d9f8958f",
   "metadata": {},
   "outputs": [],
   "source": [
    "import pandas as pd\n",
    "import matplotlib.dates as mdates\n",
    "from matplotlib.lines import Line2D\n",
    "from matplotlib.patches import Circle, Arrow, FancyArrowPatch\n",
    "import numpy as np\n",
    "from matplotlib import pyplot as plt\n",
    "from long_covid import styling\n",
    "from long_covid.colors import flatuicolors\n",
    "import datetime"
   ]
  },
  {
   "cell_type": "code",
   "execution_count": null,
   "id": "3942fdd1",
   "metadata": {},
   "outputs": [],
   "source": [
    "tests = pd.read_feather('../data/01_raw/tests.feather')\n",
    "tests[tests.test_result == 'positive'].iloc[1007]"
   ]
  },
  {
   "cell_type": "code",
   "execution_count": null,
   "id": "180cb3c8",
   "metadata": {},
   "outputs": [],
   "source": [
    "vitals = pd.read_feather('../data/02_processed/vitals_processed.feather')"
   ]
  },
  {
   "cell_type": "code",
   "execution_count": null,
   "id": "15a56364",
   "metadata": {},
   "outputs": [],
   "source": [
    "#276043 is also a good choice!\n",
    "\n",
    "df = vitals[vitals.userid == 384099]\n",
    "df.sort_values(by='date', inplace=True)\n",
    "df = df[df.vitalid == 9]\n",
    "df = df[(df.daily_mean < 30000) & (df.raw_value < 20000)]\n",
    "df['factor'] = np.cos((pd.to_datetime(df.date) - datetime.datetime(2020, 1, 1)).dt.days / 365 * 2 * np.pi - np.pi + (1 * np.random.random(len(df.date)) - 0.5))"
   ]
  },
  {
   "cell_type": "code",
   "execution_count": null,
   "id": "45179bfc",
   "metadata": {},
   "outputs": [],
   "source": [
    "f, axarr = plt.subplots(2, 1, figsize=(4.5, 6))\n",
    "\n",
    "axarr = axarr.flatten()\n",
    "ax1, ax2,  = axarr\n",
    "ax1.plot(df.date[::3], df.raw_value[::3] + 1000 * df.factor[::3], label='One user', c=flatuicolors.pomegranate, ls='-', alpha=0.8)\n",
    "ax1.plot(df.date[::3], df.daily_mean[::3] + 1000 * df.factor[::3], label='Average of all users with same device', c=flatuicolors.wetasphalt)\n",
    "ax2.plot(df.date[::3], df.value[::3], label='Daily deviation from population average', c=flatuicolors.pomegranate, alpha=0.8)\n",
    "\n",
    "ax1.set_ylabel('Activity\\n[steps/day]')\n",
    "ax2.set_ylabel('Activity difference from\\npopulation average[steps/day]')\n",
    "ax1.legend(loc='upper right')\n",
    "\n",
    "for ax, label in zip(axarr, (\"A\", \"B\")):\n",
    "    styling.hide_and_move_axis(ax)\n",
    "    ax.xaxis.set_major_formatter(mdates.ConciseDateFormatter(ax.xaxis.get_major_locator()))\n",
    "    x0, x1 = ax.get_xlim()\n",
    "    y0, y1 = ax.get_ylim()\n",
    "    ax.text(x0 + (x1 - x0) * 0.02, y0 + (y1 - y0) * 0.04, label, size=25)\n",
    "\n",
    "plt.tight_layout()\n",
    "plt.savefig('../output/si_figure7_user_anomaly_computation.jpg', dpi=400)"
   ]
  },
  {
   "cell_type": "code",
   "execution_count": null,
   "id": "9a5959d5",
   "metadata": {},
   "outputs": [],
   "source": [
    "circle = Circle((0.51, 0.74), 0.02, facecolor='w', edgecolor='k', linewidth=2)\n",
    "f.add_artist(circle)\n",
    "\n",
    "x = [0.48, 0.49]\n",
    "y = [0.74, 0.74]\n",
    "line = Line2D(x, y, lw=2., color='k', alpha=1)\n",
    "f.add_artist(line)\n",
    "\n",
    "x = [0.53, 0.54]\n",
    "y = [0.74, 0.74]\n",
    "line = Line2D(x, y, lw=2., color='k', alpha=1)\n",
    "f.add_artist(line)\n",
    "\n",
    "x = [0.51, 0.51]\n",
    "y = [0.72, 0.46]\n",
    "line = Line2D(x, y, lw=2., color='k', alpha=1)\n",
    "\n",
    "arrow = Arrow(0.51, 0.72, 0, -0.3, width=0.01, color='k')\n",
    "arrow = FancyArrowPatch((0.51, 0.723), (0.51, 0.44), linewidth=2, arrowstyle='->', mutation_scale=30)\n",
    "f.add_artist(arrow)\n",
    "\n",
    "f.text(.5025, 0.725, '-', size=30)\n",
    "\n",
    "plt.axis('off')"
   ]
  }
 ],
 "metadata": {
  "kernelspec": {
   "display_name": "Python 3 (ipykernel)",
   "language": "python",
   "name": "python3"
  },
  "language_info": {
   "codemirror_mode": {
    "name": "ipython",
    "version": 3
   },
   "file_extension": ".py",
   "mimetype": "text/x-python",
   "name": "python",
   "nbconvert_exporter": "python",
   "pygments_lexer": "ipython3",
   "version": "3.10.9"
  }
 },
 "nbformat": 4,
 "nbformat_minor": 5
}
